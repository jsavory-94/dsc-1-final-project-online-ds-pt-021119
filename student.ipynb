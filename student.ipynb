{
 "cells": [
  {
   "cell_type": "markdown",
   "metadata": {},
   "source": [
    "## Final Project Submission\n",
    "\n",
    "Please fill out:\n",
    "* Student name: JAMES SAVORY\n",
    "* Student pace: self paced / part time / full time: PART TIME\n",
    "* Scheduled project review date/time: APRIL 5, 2019 \n",
    "* Instructor name: BRANDON LEWIS\n",
    "* Blog post URL:\n"
   ]
  },
  {
   "cell_type": "markdown",
   "metadata": {},
   "source": [
    "# Obtaining and Scrubbing the data"
   ]
  },
  {
   "cell_type": "markdown",
   "metadata": {},
   "source": [
    "### Import Libraries, Data"
   ]
  },
  {
   "cell_type": "code",
   "execution_count": 165,
   "metadata": {},
   "outputs": [],
   "source": [
    "import pandas as pd\n",
    "import numpy as np\n",
    "import random\n",
    "\n",
    "pd.set_option('display.max_columns', 21)\n",
    "df = pd.read_csv(\"kc_house_data.csv\")"
   ]
  },
  {
   "cell_type": "markdown",
   "metadata": {},
   "source": [
    "### Manage Null, NaN Values"
   ]
  },
  {
   "cell_type": "code",
   "execution_count": 166,
   "metadata": {
    "scrolled": true
   },
   "outputs": [
    {
     "data": {
      "text/plain": [
       "id               0\n",
       "date             0\n",
       "price            0\n",
       "bedrooms         0\n",
       "bathrooms        0\n",
       "sqft_living      0\n",
       "sqft_lot         0\n",
       "floors           0\n",
       "waterfront       0\n",
       "view             0\n",
       "condition        0\n",
       "grade            0\n",
       "sqft_above       0\n",
       "sqft_basement    0\n",
       "yr_built         0\n",
       "yr_renovated     0\n",
       "zipcode          0\n",
       "lat              0\n",
       "long             0\n",
       "sqft_living15    0\n",
       "sqft_lot15       0\n",
       "dtype: int64"
      ]
     },
     "execution_count": 166,
     "metadata": {},
     "output_type": "execute_result"
    }
   ],
   "source": [
    "df.isna().sum()\n",
    "\n",
    "#---Waterfront---\n",
    "df.groupby('waterfront')['id'].nunique()\n",
    "df['waterfront'].isna().sum()\n",
    "df['waterfront'].replace(np.NaN, 0,inplace=True) #Replace NaNs with most common value (0)\n",
    "\n",
    "#---View---\n",
    "bins = [0,1,2,3,4]\n",
    "df.groupby('view')['id'].nunique()\n",
    "\n",
    "def generate_dummy_view_data():\n",
    "    zero_count = 19253\n",
    "    one_count = 329\n",
    "    two_count = 956\n",
    "    three_count = 505\n",
    "    four_count = 314\n",
    "    \n",
    "    total = zero_count + one_count + two_count + three_count + four_count\n",
    "    zero_probability = zero_count/total\n",
    "    one_probability = one_count/total\n",
    "    two_probability = two_count/total\n",
    "    three_probability= three_count/total\n",
    "    four_probability= four_count/total\n",
    "    #probability_dict = print(f'zero_prob:{zero_probability}, one_prob:{one_probability}, two_pro:{two_probability}, three_prob:{three_probability}, four_prob:{four_probability}')\n",
    "    \n",
    "    random_num = random.uniform(0,1)\n",
    "    \n",
    "    if random_num < four_probability:\n",
    "        return 4\n",
    "    elif random_num >= four_probability and random_num < one_probability:\n",
    "        return 1\n",
    "    elif random_num >= one_probability and random_num < three_probability:\n",
    "        return 3\n",
    "    elif random_num >= three_probability and random_num < two_probability:\n",
    "        return 2\n",
    "    else:\n",
    "        return 0\n",
    "\n",
    "dummy = generate_dummy_view_data()\n",
    "df[\"view\"].replace(np.NaN, dummy,inplace=True) #Interpolate values\n",
    "#df.isna().sum()\n",
    "\n",
    "#---Yr_Renovated---\n",
    "df.groupby('yr_renovated')['id'].nunique()\n",
    "df[\"yr_renovated\"].replace(np.NaN, 0,inplace=True) #Replace with most common value (0)\n",
    "df.isna().sum()\n",
    "\n",
    "\n",
    "#---Sqft_Basement---\n",
    "df[\"sqft_basement\"].replace('?', np.NaN,inplace=True)\n",
    "df['sqft_basement'] = df['sqft_basement'].astype('float64')\n",
    "#df.info()\n",
    "\n",
    "#with pd.option_context('display.max_rows', None, 'display.max_columns', None):\n",
    "    #print(df.groupby('sqft_basement')['id'].nunique())\n",
    "\n",
    "df[\"sqft_basement\"].replace(np.NaN, 0,inplace=True) #Replace with most common value (0)\n",
    "df.isna().sum()"
   ]
  },
  {
   "cell_type": "markdown",
   "metadata": {},
   "source": [
    "### Checking for collinearity"
   ]
  },
  {
   "cell_type": "code",
   "execution_count": null,
   "metadata": {},
   "outputs": [],
   "source": [
    "#---"
   ]
  }
 ],
 "metadata": {
  "kernelspec": {
   "display_name": "Python 3",
   "language": "python",
   "name": "python3"
  },
  "language_info": {
   "codemirror_mode": {
    "name": "ipython",
    "version": 3
   },
   "file_extension": ".py",
   "mimetype": "text/x-python",
   "name": "python",
   "nbconvert_exporter": "python",
   "pygments_lexer": "ipython3",
   "version": "3.6.5"
  }
 },
 "nbformat": 4,
 "nbformat_minor": 2
}
